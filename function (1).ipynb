{
  "nbformat": 4,
  "nbformat_minor": 0,
  "metadata": {
    "colab": {
      "provenance": []
    },
    "kernelspec": {
      "name": "python3",
      "display_name": "Python 3"
    },
    "language_info": {
      "name": "python"
    }
  },
  "cells": [
    {
      "cell_type": "markdown",
      "source": [],
      "metadata": {
        "id": "C8m_TQC4Jgo4"
      }
    },
    {
      "cell_type": "markdown",
      "source": [
        "Q1- What is the difference between a function and a method in Python ?\n",
        "\n",
        "- In Python, both functions and methods are blocks of code that perform a specific task, but they differ primarily in how they are defined and used.\n",
        "\n",
        "Function\n",
        "\n",
        "-A function is defined using the def keyword.\n",
        "\n",
        "-It is independent and not associated with any object or class unless explicitly passed.\n",
        "\n",
        "-Can be called directly using its name\n",
        "\n",
        "Method\n",
        "\n",
        "-A method is also defined using the def keyword, but inside a class.\n",
        "\n",
        "-It is associated with an object (instance method) or a class (class/static methods).\n",
        "\n",
        "-Called on an object using dot notation\n",
        "\n",
        "Q2  Explain the concept of function arguments and parameters in Python?\n",
        "\n",
        "- In Python, function arguments and parameters are fundamental concepts used when working with functions. Here's a clear breakdown of the two:\n",
        "\n",
        "Parameters\n",
        "\n",
        "-Definition: Parameters are placeholders or variable names defined in a function declaration.\n",
        "\n",
        "-Purpose: They define what kind of information the function needs to receive when it is called.\n",
        "\n",
        "\n",
        "-  Arguments\n",
        "\n",
        "-definition: Arguments are the actual values you pass to a function when you call it.\n",
        "\n",
        "-Purpose: They provide the data that the function will use.\n",
        "\n",
        "\n",
        "Q3  What are the different ways to define and call a function in Python?\n",
        "\n",
        "- In Python, functions can be defined and called in several different ways depending on how you want to use and pass data. Here’s a breakdown of the different ways to define and call functions:\n",
        "\n",
        "1 Basic Function Definition and Call\n",
        "\n",
        "2 Function with Parameters\n",
        "\n",
        "3 Function with Return Value\n",
        "\n",
        "4 Function with Default Parameters\n",
        "\n",
        "5 Function with Keyword Arguments\n",
        "\n",
        "6 Function with Variable-Length Arguments\n",
        "\n",
        "7  Lambda Functions (Anonymous Functions)\n",
        "\n",
        "8 Nested Functions\n",
        "\n",
        "9 Recursive Function\n",
        "\n",
        "10 Calling Function Using Another Function's Return\n",
        "\n",
        "Q4 . What is the purpose of the `return` statement in a Python function?\n",
        "\n",
        "- The return statement is used to send data back from a function to the place where it was called. It ends the function and outputs a value (or None if nothing is returned).\n",
        "\n",
        "(Key Purposes of return)\n",
        "\n",
        "1 Pass result back to the caller:\n",
        "\n",
        "2 End function execution early:\n",
        "\n",
        "3 Return multiple values:\n",
        "\n",
        "4 Used in expressions:\n",
        "Returned values can be used directly in expressions:\n",
        "\n",
        "Q5  What are iterators in Python and how do they differ from iterables?\n",
        "\n",
        "- In Python, iterators and iterables are closely related concepts used for looping over data, but they are not the same. Let's break it down clearly.\n",
        "\n",
        "1. Iterable\n",
        "\n",
        "An iterable is any object that can be looped over (used in a for loop).\n",
        "\n",
        "🔹 Examples of iterables:\n",
        "list\n",
        "\n",
        "tuple\n",
        "\n",
        "str\n",
        "\n",
        "dict\n",
        "\n",
        "set\n",
        "\n",
        "custom objects that implement __iter__()\n",
        "\n",
        "🔹 Key Feature:\n",
        "It has an __iter__() method that returns an iterator.\n",
        "\n",
        "2. Iterator\n",
        "An iterator is an object that represents a stream of data. It remembers its position and produces the next item on request.\n",
        "\n",
        "🔹 Key Features:\n",
        "\n",
        "Has a __next__() method\n",
        "\n",
        "Also has an __iter__() method that returns itself\n",
        "\n",
        "numbers = [1, 2, 3]\n",
        "iterator = iter(numbers)  # Convert iterable to iterator\n",
        "\n",
        "print(next(iterator))  # Output: 1\n",
        "print(next(iterator))  # Output: 2\n",
        "print(next(iterator))  # Output: 3\n",
        "\n",
        "\n",
        "next(iterator) again would raise StopIteration\n",
        "\n",
        "Q6 . Explain the concept of generators in Python and how they are defined.\n",
        "\n",
        "- Generators are a special type of iterator in Python that let you generate values on the fly, instead of storing them all in memory at once.\n",
        "\n",
        "They are ideal for large datasets, infinite sequences, or any scenario where lazy evaluation (calculating only when needed) is useful.\n",
        "\n",
        "✅ How Are Generators Defined?\n",
        "🔹 1. Using yield in a Function\n",
        "When a function uses the yield keyword instead of return, it becomes a generator function.\n",
        "\n",
        " 2. Using Generator Expressions (like list comprehensions)\n",
        "\n",
        "Q7 . What are the advantages of using generators over regular functions?\n",
        "\n",
        " - Advantages of Using Generators Over Regular Functions\n",
        "Generators offer several powerful advantages over regular functions, especially when working with large data, infinite streams, or performance-sensitive applications.\n",
        "\n",
        "🔹 1. Memory Efficiency\n",
        "\n",
        "Regular functions that return lists store all values in memory, while generators yield one value at a time.\n",
        "\n",
        "🔹 2. Lazy Evaluation\n",
        "\n",
        "Generators compute values only when requested, not in advance.\n",
        "\n",
        "This is useful for:\n",
        "\n",
        "Streaming data\n",
        "\n",
        "Handling infinite sequences\n",
        "\n",
        "Reducing unnecessary computation\n",
        "\n",
        "🔹 3. Better Performance for Large or Streaming Data\n",
        "\n",
        "You don't have to wait for the entire dataset to be prepared. You can process each item as it's generated.\n",
        "\n",
        "➡️ Useful for:\n",
        "\n",
        "Reading large files line by line\n",
        "\n",
        "Handling API or sensor streams\n",
        "\n",
        "Processing large logs or datasets\n",
        "\n",
        "🔹 4. Cleaner Code for Iteration\n",
        "\n",
        "Generators simplify writing iterators. You don’t need to implement __iter__() and __next__() manually.\n",
        "\n",
        "🔹 5. Pipeline Support (Chaining Generators)\n",
        "\n",
        "Generators can be chained together to form powerful data-processing pipelines.\n",
        "\n",
        "🔹 6. State Retention Without Global Variables\n",
        "\n",
        "Generators remember their state between calls to next(), making it easy to pause and resume execution.\n",
        "\n",
        "Q8 . What is a lambda function in Python and when is it typically used?\n",
        "\n",
        "- A lambda function is a small, anonymous function defined using the lambda keyword in Python. It’s used for short, simple functions that are defined inline and are not reused elsewhere.\n",
        "\n",
        " Basic Syntax:\n",
        "\n",
        "lambda arguments: expression\n",
        "\n",
        "\n",
        " . Lambda functions are often used in situations where a short function is needed temporarily, usually as an argument to a higher-order function.\n",
        "\n",
        "🔹 1. With map()\n",
        "\n",
        "🔹 2. With filter()\n",
        "\n",
        "🔹 3. With sorted()\n",
        "\n",
        "🔹 4. With reduce() (from functools)\n",
        "\n",
        "Q9  Explain the purpose and usage of the `map()` function in Python.\n",
        "\n",
        "The map() function in Python is used to apply a function to each item in an iterable (like a list, tuple, etc.) and return a new iterable (a map object) with the results.\n",
        "\n",
        "✅ Purpose of map()\n",
        "To transform data by applying a function to each element of an iterable, without using a loop explicitly.\n",
        "\n",
        "🔹 Syntax\n",
        "\n",
        "map(function, iterable)\n",
        "\n",
        "Q 10  What is the difference between `map()`, `reduce()`, and `filter()` functions in Python\n",
        "\n",
        "- 1. map()\n",
        "\n",
        "Purpose: Applies a function to every item in an iterable and returns an iterable of the results.\n",
        "\n",
        "Input: A function + one or more iterables.\n",
        "\n",
        "Output: An iterator of transformed items.\n",
        "\n",
        "Use case: Transform data element-wise\n",
        "\n",
        "nums = [1, 2, 3, 4]\n",
        "squares = map(lambda x: x*x, nums)  # [1, 4, 9, 16]\n",
        "\n",
        "2. filter()\n",
        "\n",
        "Purpose: Filters items in an iterable by applying a predicate function (returns True/False) to each item.\n",
        "\n",
        "Input: A predicate function + one iterable.\n",
        "\n",
        "Output: An iterator of items where the function returns True.\n",
        "\n",
        "Use case: Select a subset of items.\n",
        "\n",
        "nums = [1, 2, 3, 4, 5]\n",
        "evens = filter(lambda x: x % 2 == 0, nums)  # [2, 4]\n",
        "\n",
        "\n",
        "3. reduce() (from functools)\n",
        "Purpose: Applies a function of two arguments cumulatively to the items of an iterable, reducing it to a single value.\n",
        "\n",
        "Input: A binary function + one iterable.\n",
        "\n",
        "Output: A single aggregated value.\n",
        "\n",
        "Use case: Aggregate or combine items.\n",
        "\n",
        "from functools import reduce\n",
        "\n",
        "nums = [1, 2, 3, 4]\n",
        "product = reduce(lambda x, y: x * y, nums)  # 24 (1*2*3*4)\n",
        "\n",
        "Q11 1. Using pen & Paper write the internal mechanism for sum operation using  reduce function on this given\n",
        "list:[47,11,42,13];\n",
        "\n",
        "\n",
        "\n",
        "\n",
        "\n",
        "\n",
        "\n",
        "\n",
        "\n",
        "\n",
        "\n",
        "\n"
      ],
      "metadata": {
        "id": "ab5P8OGuJh_O"
      }
    },
    {
      "cell_type": "code",
      "source": [
        "# practical questions:\n"
      ],
      "metadata": {
        "id": "tnf9jynoUMJA"
      },
      "execution_count": null,
      "outputs": []
    },
    {
      "cell_type": "code",
      "source": [
        "# Q1  Write a Python function that takes a list of numbers as input and returns the sum of all even numbers in\n",
        "the list."
      ],
      "metadata": {
        "id": "_4Ih05WsUXUQ"
      },
      "execution_count": null,
      "outputs": []
    },
    {
      "cell_type": "code",
      "source": [
        " def sum_even_numbers(numbers):\n",
        "    total = 0\n",
        "    for num in numbers:\n",
        "        if num % 2 == 0:\n",
        "            total += num\n",
        "    return total\n",
        "\n",
        "num=[10,15,22,33,40,55]\n",
        "print(sum_even_numbers(num))"
      ],
      "metadata": {
        "colab": {
          "base_uri": "https://localhost:8080/"
        },
        "id": "8IFxDydmUWxa",
        "outputId": "60b6c9ce-7de9-4f71-e606-f7fa07e16c47"
      },
      "execution_count": 7,
      "outputs": [
        {
          "output_type": "stream",
          "name": "stdout",
          "text": [
            "72\n"
          ]
        }
      ]
    },
    {
      "cell_type": "code",
      "source": [
        "# Q2  Create a Python function that accepts a string and returns the reverse of that string."
      ],
      "metadata": {
        "id": "aciTveZcUkhr"
      },
      "execution_count": null,
      "outputs": []
    },
    {
      "cell_type": "code",
      "source": [
        "def reverse_string(s):\n",
        "    return s[::-1]\n",
        "\n",
        "text=\"hello\"\n",
        "print(reverse_string(text))"
      ],
      "metadata": {
        "colab": {
          "base_uri": "https://localhost:8080/"
        },
        "id": "cpakYkfLUWoh",
        "outputId": "a0b15875-31e6-493a-9c50-7c4fb30dc02b"
      },
      "execution_count": 9,
      "outputs": [
        {
          "output_type": "stream",
          "name": "stdout",
          "text": [
            "olleh\n"
          ]
        }
      ]
    },
    {
      "cell_type": "code",
      "source": [
        "# Q3  Implement a Python function that takes a list of integers and returns a new list containing the squares of\n",
        "each number."
      ],
      "metadata": {
        "id": "-TW-E0pMUWga"
      },
      "execution_count": null,
      "outputs": []
    },
    {
      "cell_type": "code",
      "source": [
        "def square_list(numbers):\n",
        "    return [x ** 2 for x in numbers]\n",
        "\n",
        "numbers = [1, 2, 3, 4, 5]\n",
        "print(square_list(numbers))"
      ],
      "metadata": {
        "colab": {
          "base_uri": "https://localhost:8080/"
        },
        "id": "glKcwzS5UWYx",
        "outputId": "bcf2ee39-0ec9-4240-8cbb-07b82da99b5a"
      },
      "execution_count": 10,
      "outputs": [
        {
          "output_type": "stream",
          "name": "stdout",
          "text": [
            "[1, 4, 9, 16, 25]\n"
          ]
        }
      ]
    },
    {
      "cell_type": "code",
      "source": [
        "# Q4 Write a Python function that checks if a given number is prime or not from 1 to 200.\n",
        "\n",
        "\n"
      ],
      "metadata": {
        "id": "3UIatOkqUWRh"
      },
      "execution_count": null,
      "outputs": []
    },
    {
      "cell_type": "code",
      "source": [
        "def is_prime(n):\n",
        "    if n <= 1:\n",
        "        return False\n",
        "    if n <= 3:\n",
        "        return True\n",
        "    if n % 2 == 0 or n % 3 == 0:\n",
        "        return False\n",
        "    i = 5\n",
        "    while i * i <= n:\n",
        "        if n % i == 0 or n % (i + 2) == 0:\n",
        "            return False\n",
        "        i += 6\n",
        "    return True\n",
        "\n",
        "# Example usage: print all primes from 1 to 200\n",
        "for num in range(1, 201):\n",
        "    if is_prime(num):\n",
        "        print (num, end=' ')\n",
        "\n",
        "\n"
      ],
      "metadata": {
        "colab": {
          "base_uri": "https://localhost:8080/"
        },
        "id": "5jhH8t1BUWL5",
        "outputId": "a0be1991-aa65-400c-8290-8762d615abb1"
      },
      "execution_count": 24,
      "outputs": [
        {
          "output_type": "stream",
          "name": "stdout",
          "text": [
            "2 3 5 7 11 13 17 19 23 29 31 37 41 43 47 53 59 61 67 71 73 79 83 89 97 101 103 107 109 113 127 131 137 139 149 151 157 163 167 173 179 181 191 193 197 199 "
          ]
        }
      ]
    },
    {
      "cell_type": "code",
      "source": [
        " #Q5  Create an iterator class in Python that generates the Fibonacci sequence up to a specified number of\n",
        "terms.\n",
        "\n"
      ],
      "metadata": {
        "id": "9fx-6gmmUWEp"
      },
      "execution_count": null,
      "outputs": []
    },
    {
      "cell_type": "code",
      "source": [
        "class FibonacciIterator:\n",
        "    def __init__(self, max_terms):\n",
        "        self.max_terms = max_terms  # Total number of terms to generate\n",
        "        self.count = 0              # Counter for how many terms have been generated\n",
        "        self.a, self.b = 0, 1       # First two Fibonacci numbers\n",
        "\n",
        "    def __iter__(self):\n",
        "        return self\n",
        "\n",
        "    def __next__(self):\n",
        "        if self.count >= self.max_terms:\n",
        "            raise StopIteration\n",
        "        if self.count == 0:\n",
        "            self.count += 1\n",
        "            return 0\n",
        "        elif self.count == 1:\n",
        "            self.count += 1\n",
        "            return 1\n",
        "        else:\n",
        "            self.count += 1\n",
        "            self.a, self.b = self.b, self.a + self.b\n",
        "            return self.a\n",
        "\n",
        "\n",
        "fib=  FibonacciIterator(10)\n",
        "for num in fib:\n",
        "    print(num)\n",
        "\n"
      ],
      "metadata": {
        "colab": {
          "base_uri": "https://localhost:8080/"
        },
        "id": "BGjjJalrUV-S",
        "outputId": "f5911032-ce71-45c2-d61e-289d9e17df8d"
      },
      "execution_count": 31,
      "outputs": [
        {
          "output_type": "stream",
          "name": "stdout",
          "text": [
            "0\n",
            "1\n",
            "1\n",
            "1\n",
            "2\n",
            "3\n",
            "5\n",
            "8\n",
            "13\n",
            "21\n"
          ]
        }
      ]
    },
    {
      "cell_type": "code",
      "source": [
        "#Q6 Write a generator function in Python that yields the powers of 2 up to a given exponent."
      ],
      "metadata": {
        "id": "VKA8tjXwUV3k"
      },
      "execution_count": null,
      "outputs": []
    },
    {
      "cell_type": "code",
      "source": [
        "def powers_of_two(max_exponent):\n",
        "    for exp in range(max_exponent + 1):\n",
        "        yield 2 ** exp\n",
        "\n",
        "\n",
        "powers = powers_of_two(5)\n",
        "for power in powers:\n",
        "    print(power)"
      ],
      "metadata": {
        "colab": {
          "base_uri": "https://localhost:8080/"
        },
        "id": "YwOM8cL3UVxr",
        "outputId": "747ca8cc-9c61-4341-ffae-d650bf8b0f87"
      },
      "execution_count": 32,
      "outputs": [
        {
          "output_type": "stream",
          "name": "stdout",
          "text": [
            "1\n",
            "2\n",
            "4\n",
            "8\n",
            "16\n",
            "32\n"
          ]
        }
      ]
    },
    {
      "cell_type": "code",
      "source": [
        "#Q7  Implement a generator function that reads a file line by line and yields each line as a string."
      ],
      "metadata": {
        "id": "IS9fbfqGbD1G"
      },
      "execution_count": null,
      "outputs": []
    },
    {
      "cell_type": "code",
      "source": [
        "def read_lines(filename):\n",
        "    with open(filename, 'r') as file:\n",
        "        for line in file:\n",
        "            yield line.rstrip('\\n')  # remove newline character\n",
        "\n",
        "\n"
      ],
      "metadata": {
        "id": "h6Jty0TmbDyV"
      },
      "execution_count": 42,
      "outputs": []
    },
    {
      "cell_type": "code",
      "source": [
        "#Q8  Use a lambda function in Python to sort a list of tuples based on the second element of each tuple."
      ],
      "metadata": {
        "id": "HvpkNFlpbDpG"
      },
      "execution_count": null,
      "outputs": []
    },
    {
      "cell_type": "code",
      "source": [
        "# List of tuples\n",
        "data = [(1, 4), (3, 1), (5, 2), (2, 3)]\n",
        "\n",
        "# Sort by the second element using lambda\n",
        "sorted_data = sorted(data, key=lambda x: x[1])\n",
        "\n",
        "print(sorted_data)\n"
      ],
      "metadata": {
        "colab": {
          "base_uri": "https://localhost:8080/"
        },
        "id": "KNWsVNebbDmV",
        "outputId": "33399a9f-ceb5-4c31-b2a7-de11b44f5077"
      },
      "execution_count": 43,
      "outputs": [
        {
          "output_type": "stream",
          "name": "stdout",
          "text": [
            "[(3, 1), (5, 2), (2, 3), (1, 4)]\n"
          ]
        }
      ]
    },
    {
      "cell_type": "code",
      "source": [
        "#Q 9  . Write a Python program that uses `map()` to convert a list of temperatures from Celsius to Fahrenheit."
      ],
      "metadata": {
        "id": "d1AsUivRbDdN"
      },
      "execution_count": null,
      "outputs": []
    },
    {
      "cell_type": "code",
      "source": [
        "# List of temperatures in Celsius\n",
        "celsius_temps = [0, 10, 20, 30, 40]\n",
        "\n",
        "# Use map() and lambda to convert to Fahrenheit\n",
        "fahrenheit_temps = list(map(lambda c: (c * 9/5) + 32, celsius_temps))\n",
        "\n",
        "# Display the results\n",
        "print(\"Celsius:\", celsius_temps)\n",
        "print(\"Fahrenheit:\", fahrenheit_temps)\n"
      ],
      "metadata": {
        "colab": {
          "base_uri": "https://localhost:8080/"
        },
        "id": "Zrx61q42bDU9",
        "outputId": "55703304-874e-4c85-84f2-1b26ef04b39f"
      },
      "execution_count": 44,
      "outputs": [
        {
          "output_type": "stream",
          "name": "stdout",
          "text": [
            "Celsius: [0, 10, 20, 30, 40]\n",
            "Fahrenheit: [32.0, 50.0, 68.0, 86.0, 104.0]\n"
          ]
        }
      ]
    },
    {
      "cell_type": "code",
      "source": [
        "#Q10 Create a Python program that uses `filter()` to remove all the vowels from a given string."
      ],
      "metadata": {
        "id": "emOI3XvnUVqj"
      },
      "execution_count": null,
      "outputs": []
    },
    {
      "cell_type": "code",
      "source": [
        "def remove_vowels(input_str):\n",
        "    vowels = 'aeiouAEIOU'\n",
        "    # Keep only characters that are NOT vowels\n",
        "    return ''.join(filter(lambda char: char not in vowels, input_str))\n",
        "\n",
        "# Example usage\n",
        "text = \"Hello, World!\"\n",
        "result = remove_vowels(text)\n",
        "print(\"Original:\", text)\n",
        "print(\"Without vowels:\", result)\n"
      ],
      "metadata": {
        "colab": {
          "base_uri": "https://localhost:8080/"
        },
        "id": "F65ILB72drA-",
        "outputId": "b398ad5f-2d54-4786-b066-2cfb8a2e41e6"
      },
      "execution_count": 45,
      "outputs": [
        {
          "output_type": "stream",
          "name": "stdout",
          "text": [
            "Original: Hello, World!\n",
            "Without vowels: Hll, Wrld!\n"
          ]
        }
      ]
    },
    {
      "cell_type": "code",
      "source": [
        "#Q11  Imagine an accounting routine used in a book shop. It works on a list with sublists, which look like this:\n",
        "\n",
        "Write a Python program, which returns a list with 2-tuples. Each tuple consists of the order number and the\n",
        "product of the price per item and the quantity. The product should be increased by 10,- € if the value of the\n",
        "order is smaller than 100,00 €.\n",
        "\n",
        "Write a Python program using lambda and map."
      ],
      "metadata": {
        "id": "jT1RMU21dqse"
      },
      "execution_count": null,
      "outputs": []
    },
    {
      "cell_type": "code",
      "source": [
        "orders = [\n",
        "    [34587, \"Learning Python\", \"Mark Lutz\", 4, 40.95],\n",
        "    [98762, \"Programming Python\", \"Mark Lutz\", 5, 56.80],\n",
        "    [77226, \"Head First Python\", \"Paul Barry\", 3, 32.95],\n",
        "    [88112, \"Einführung in Python3\", \"Bernd Klein\", 3, 24.99]\n",
        "]\n",
        "\n",
        "def calculate_order_details(order_list):\n",
        "    result = []\n",
        "    for order in order_list:\n",
        "        order_number = order[0]\n",
        "        quantity = order[3]\n",
        "        price_per_item = order[4]\n",
        "\n",
        "        product = price_per_item * quantity\n",
        "\n",
        "        if product < 100.00:\n",
        "            product += 10\n",
        "\n",
        "        result.append((order_number, round(product, 2))) # Round to 2 decimal places for currency\n",
        "    return result\n",
        "\n",
        "print(calculate_order_details(orders))"
      ],
      "metadata": {
        "colab": {
          "base_uri": "https://localhost:8080/"
        },
        "id": "5eQFuW8Wdqo5",
        "outputId": "42f6cf65-a6da-440a-d336-b78927b51d65"
      },
      "execution_count": 46,
      "outputs": [
        {
          "output_type": "stream",
          "name": "stdout",
          "text": [
            "[(34587, 163.8), (98762, 284.0), (77226, 108.85), (88112, 84.97)]\n"
          ]
        }
      ]
    },
    {
      "cell_type": "code",
      "source": [],
      "metadata": {
        "id": "REPt9jN-gbm-"
      },
      "execution_count": null,
      "outputs": []
    }
  ]
}